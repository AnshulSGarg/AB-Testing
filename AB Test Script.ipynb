{
 "cells": [
  {
   "attachments": {},
   "cell_type": "markdown",
   "metadata": {},
   "source": [
    "# AB Testing"
   ]
  },
  {
   "attachments": {},
   "cell_type": "markdown",
   "metadata": {},
   "source": [
    "## Import Library"
   ]
  },
  {
   "cell_type": "code",
   "execution_count": 434,
   "metadata": {},
   "outputs": [],
   "source": [
    "import pandas as pd\n",
    "import numpy as np\n",
    "from scipy.stats import norm, beta\n",
    "from statsmodels.stats.proportion import proportions_ztest\n",
    "import datetime\n",
    "import seaborn as sns\n",
    "import matplotlib.pyplot as plt\n"
   ]
  },
  {
   "attachments": {},
   "cell_type": "markdown",
   "metadata": {},
   "source": [
    "## Import Data"
   ]
  },
  {
   "cell_type": "code",
   "execution_count": 421,
   "metadata": {},
   "outputs": [
    {
     "data": {
      "text/html": [
       "<div>\n",
       "<style scoped>\n",
       "    .dataframe tbody tr th:only-of-type {\n",
       "        vertical-align: middle;\n",
       "    }\n",
       "\n",
       "    .dataframe tbody tr th {\n",
       "        vertical-align: top;\n",
       "    }\n",
       "\n",
       "    .dataframe thead th {\n",
       "        text-align: right;\n",
       "    }\n",
       "</style>\n",
       "<table border=\"1\" class=\"dataframe\">\n",
       "  <thead>\n",
       "    <tr style=\"text-align: right;\">\n",
       "      <th></th>\n",
       "      <th>user_id</th>\n",
       "      <th>timestamp</th>\n",
       "      <th>group</th>\n",
       "      <th>landing_page</th>\n",
       "      <th>converted</th>\n",
       "    </tr>\n",
       "  </thead>\n",
       "  <tbody>\n",
       "    <tr>\n",
       "      <th>0</th>\n",
       "      <td>851104</td>\n",
       "      <td>1/21/2017 22:11</td>\n",
       "      <td>control</td>\n",
       "      <td>old_page</td>\n",
       "      <td>0</td>\n",
       "    </tr>\n",
       "    <tr>\n",
       "      <th>1</th>\n",
       "      <td>804228</td>\n",
       "      <td>1/12/2017 8:01</td>\n",
       "      <td>control</td>\n",
       "      <td>old_page</td>\n",
       "      <td>0</td>\n",
       "    </tr>\n",
       "    <tr>\n",
       "      <th>2</th>\n",
       "      <td>661590</td>\n",
       "      <td>1/11/2017 16:55</td>\n",
       "      <td>treatment</td>\n",
       "      <td>new_page</td>\n",
       "      <td>0</td>\n",
       "    </tr>\n",
       "    <tr>\n",
       "      <th>3</th>\n",
       "      <td>853541</td>\n",
       "      <td>1/8/2017 18:28</td>\n",
       "      <td>treatment</td>\n",
       "      <td>new_page</td>\n",
       "      <td>0</td>\n",
       "    </tr>\n",
       "    <tr>\n",
       "      <th>4</th>\n",
       "      <td>864975</td>\n",
       "      <td>1/21/2017 1:52</td>\n",
       "      <td>control</td>\n",
       "      <td>old_page</td>\n",
       "      <td>1</td>\n",
       "    </tr>\n",
       "    <tr>\n",
       "      <th>...</th>\n",
       "      <td>...</td>\n",
       "      <td>...</td>\n",
       "      <td>...</td>\n",
       "      <td>...</td>\n",
       "      <td>...</td>\n",
       "    </tr>\n",
       "    <tr>\n",
       "      <th>294473</th>\n",
       "      <td>751197</td>\n",
       "      <td>1/3/2017 22:28</td>\n",
       "      <td>control</td>\n",
       "      <td>old_page</td>\n",
       "      <td>0</td>\n",
       "    </tr>\n",
       "    <tr>\n",
       "      <th>294474</th>\n",
       "      <td>945152</td>\n",
       "      <td>1/12/2017 0:51</td>\n",
       "      <td>control</td>\n",
       "      <td>old_page</td>\n",
       "      <td>0</td>\n",
       "    </tr>\n",
       "    <tr>\n",
       "      <th>294475</th>\n",
       "      <td>734608</td>\n",
       "      <td>1/22/2017 11:45</td>\n",
       "      <td>control</td>\n",
       "      <td>old_page</td>\n",
       "      <td>0</td>\n",
       "    </tr>\n",
       "    <tr>\n",
       "      <th>294476</th>\n",
       "      <td>697314</td>\n",
       "      <td>1/15/2017 1:20</td>\n",
       "      <td>control</td>\n",
       "      <td>old_page</td>\n",
       "      <td>0</td>\n",
       "    </tr>\n",
       "    <tr>\n",
       "      <th>294477</th>\n",
       "      <td>715931</td>\n",
       "      <td>1/16/2017 12:40</td>\n",
       "      <td>treatment</td>\n",
       "      <td>new_page</td>\n",
       "      <td>0</td>\n",
       "    </tr>\n",
       "  </tbody>\n",
       "</table>\n",
       "<p>294478 rows × 5 columns</p>\n",
       "</div>"
      ],
      "text/plain": [
       "        user_id        timestamp      group landing_page  converted\n",
       "0        851104  1/21/2017 22:11    control     old_page          0\n",
       "1        804228   1/12/2017 8:01    control     old_page          0\n",
       "2        661590  1/11/2017 16:55  treatment     new_page          0\n",
       "3        853541   1/8/2017 18:28  treatment     new_page          0\n",
       "4        864975   1/21/2017 1:52    control     old_page          1\n",
       "...         ...              ...        ...          ...        ...\n",
       "294473   751197   1/3/2017 22:28    control     old_page          0\n",
       "294474   945152   1/12/2017 0:51    control     old_page          0\n",
       "294475   734608  1/22/2017 11:45    control     old_page          0\n",
       "294476   697314   1/15/2017 1:20    control     old_page          0\n",
       "294477   715931  1/16/2017 12:40  treatment     new_page          0\n",
       "\n",
       "[294478 rows x 5 columns]"
      ]
     },
     "execution_count": 421,
     "metadata": {},
     "output_type": "execute_result"
    }
   ],
   "source": [
    "ab_df = pd.read_csv('https://raw.githubusercontent.com/AnshulSGarg/AB-Testing/main/ab_data.csv')\n",
    "ab_df"
   ]
  },
  {
   "cell_type": "code",
   "execution_count": 422,
   "metadata": {},
   "outputs": [
    {
     "data": {
      "text/html": [
       "<div>\n",
       "<style scoped>\n",
       "    .dataframe tbody tr th:only-of-type {\n",
       "        vertical-align: middle;\n",
       "    }\n",
       "\n",
       "    .dataframe tbody tr th {\n",
       "        vertical-align: top;\n",
       "    }\n",
       "\n",
       "    .dataframe thead th {\n",
       "        text-align: right;\n",
       "    }\n",
       "</style>\n",
       "<table border=\"1\" class=\"dataframe\">\n",
       "  <thead>\n",
       "    <tr style=\"text-align: right;\">\n",
       "      <th></th>\n",
       "      <th>user_id</th>\n",
       "      <th>timestamp</th>\n",
       "      <th>group</th>\n",
       "      <th>landing_page</th>\n",
       "      <th>converted</th>\n",
       "    </tr>\n",
       "  </thead>\n",
       "  <tbody>\n",
       "    <tr>\n",
       "      <th>0</th>\n",
       "      <td>851104</td>\n",
       "      <td>2017-01-21 22:11:00</td>\n",
       "      <td>control</td>\n",
       "      <td>old_page</td>\n",
       "      <td>0</td>\n",
       "    </tr>\n",
       "    <tr>\n",
       "      <th>1</th>\n",
       "      <td>804228</td>\n",
       "      <td>2017-01-12 08:01:00</td>\n",
       "      <td>control</td>\n",
       "      <td>old_page</td>\n",
       "      <td>0</td>\n",
       "    </tr>\n",
       "    <tr>\n",
       "      <th>2</th>\n",
       "      <td>661590</td>\n",
       "      <td>2017-01-11 16:55:00</td>\n",
       "      <td>treatment</td>\n",
       "      <td>new_page</td>\n",
       "      <td>0</td>\n",
       "    </tr>\n",
       "    <tr>\n",
       "      <th>3</th>\n",
       "      <td>853541</td>\n",
       "      <td>2017-01-08 18:28:00</td>\n",
       "      <td>treatment</td>\n",
       "      <td>new_page</td>\n",
       "      <td>0</td>\n",
       "    </tr>\n",
       "    <tr>\n",
       "      <th>4</th>\n",
       "      <td>864975</td>\n",
       "      <td>2017-01-21 01:52:00</td>\n",
       "      <td>control</td>\n",
       "      <td>old_page</td>\n",
       "      <td>1</td>\n",
       "    </tr>\n",
       "    <tr>\n",
       "      <th>...</th>\n",
       "      <td>...</td>\n",
       "      <td>...</td>\n",
       "      <td>...</td>\n",
       "      <td>...</td>\n",
       "      <td>...</td>\n",
       "    </tr>\n",
       "    <tr>\n",
       "      <th>294473</th>\n",
       "      <td>751197</td>\n",
       "      <td>2017-01-03 22:28:00</td>\n",
       "      <td>control</td>\n",
       "      <td>old_page</td>\n",
       "      <td>0</td>\n",
       "    </tr>\n",
       "    <tr>\n",
       "      <th>294474</th>\n",
       "      <td>945152</td>\n",
       "      <td>2017-01-12 00:51:00</td>\n",
       "      <td>control</td>\n",
       "      <td>old_page</td>\n",
       "      <td>0</td>\n",
       "    </tr>\n",
       "    <tr>\n",
       "      <th>294475</th>\n",
       "      <td>734608</td>\n",
       "      <td>2017-01-22 11:45:00</td>\n",
       "      <td>control</td>\n",
       "      <td>old_page</td>\n",
       "      <td>0</td>\n",
       "    </tr>\n",
       "    <tr>\n",
       "      <th>294476</th>\n",
       "      <td>697314</td>\n",
       "      <td>2017-01-15 01:20:00</td>\n",
       "      <td>control</td>\n",
       "      <td>old_page</td>\n",
       "      <td>0</td>\n",
       "    </tr>\n",
       "    <tr>\n",
       "      <th>294477</th>\n",
       "      <td>715931</td>\n",
       "      <td>2017-01-16 12:40:00</td>\n",
       "      <td>treatment</td>\n",
       "      <td>new_page</td>\n",
       "      <td>0</td>\n",
       "    </tr>\n",
       "  </tbody>\n",
       "</table>\n",
       "<p>294478 rows × 5 columns</p>\n",
       "</div>"
      ],
      "text/plain": [
       "        user_id            timestamp      group landing_page  converted\n",
       "0        851104  2017-01-21 22:11:00    control     old_page          0\n",
       "1        804228  2017-01-12 08:01:00    control     old_page          0\n",
       "2        661590  2017-01-11 16:55:00  treatment     new_page          0\n",
       "3        853541  2017-01-08 18:28:00  treatment     new_page          0\n",
       "4        864975  2017-01-21 01:52:00    control     old_page          1\n",
       "...         ...                  ...        ...          ...        ...\n",
       "294473   751197  2017-01-03 22:28:00    control     old_page          0\n",
       "294474   945152  2017-01-12 00:51:00    control     old_page          0\n",
       "294475   734608  2017-01-22 11:45:00    control     old_page          0\n",
       "294476   697314  2017-01-15 01:20:00    control     old_page          0\n",
       "294477   715931  2017-01-16 12:40:00  treatment     new_page          0\n",
       "\n",
       "[294478 rows x 5 columns]"
      ]
     },
     "execution_count": 422,
     "metadata": {},
     "output_type": "execute_result"
    }
   ],
   "source": [
    "ab_df.loc[:,'timestamp'] = pd.to_datetime(ab_df['timestamp'])\n",
    "ab_df"
   ]
  },
  {
   "attachments": {},
   "cell_type": "markdown",
   "metadata": {},
   "source": [
    "## Data Validation"
   ]
  },
  {
   "cell_type": "code",
   "execution_count": 423,
   "metadata": {},
   "outputs": [
    {
     "data": {
      "text/plain": [
       "False"
      ]
     },
     "execution_count": 423,
     "metadata": {},
     "output_type": "execute_result"
    }
   ],
   "source": [
    "ab_df.isna().values.any()"
   ]
  },
  {
   "attachments": {},
   "cell_type": "markdown",
   "metadata": {},
   "source": [
    "There are no missing values in dataset"
   ]
  },
  {
   "cell_type": "code",
   "execution_count": 424,
   "metadata": {},
   "outputs": [
    {
     "name": "stdout",
     "output_type": "stream",
     "text": [
      "Check if there are duplicates\n"
     ]
    },
    {
     "data": {
      "text/html": [
       "<div>\n",
       "<style scoped>\n",
       "    .dataframe tbody tr th:only-of-type {\n",
       "        vertical-align: middle;\n",
       "    }\n",
       "\n",
       "    .dataframe tbody tr th {\n",
       "        vertical-align: top;\n",
       "    }\n",
       "\n",
       "    .dataframe thead th {\n",
       "        text-align: right;\n",
       "    }\n",
       "</style>\n",
       "<table border=\"1\" class=\"dataframe\">\n",
       "  <thead>\n",
       "    <tr style=\"text-align: right;\">\n",
       "      <th></th>\n",
       "      <th>user_id</th>\n",
       "      <th>group</th>\n",
       "    </tr>\n",
       "  </thead>\n",
       "  <tbody>\n",
       "    <tr>\n",
       "      <th>43</th>\n",
       "      <td>630052</td>\n",
       "      <td>2</td>\n",
       "    </tr>\n",
       "    <tr>\n",
       "      <th>111</th>\n",
       "      <td>630126</td>\n",
       "      <td>2</td>\n",
       "    </tr>\n",
       "    <tr>\n",
       "      <th>122</th>\n",
       "      <td>630137</td>\n",
       "      <td>2</td>\n",
       "    </tr>\n",
       "    <tr>\n",
       "      <th>281</th>\n",
       "      <td>630320</td>\n",
       "      <td>2</td>\n",
       "    </tr>\n",
       "    <tr>\n",
       "      <th>420</th>\n",
       "      <td>630471</td>\n",
       "      <td>2</td>\n",
       "    </tr>\n",
       "    <tr>\n",
       "      <th>...</th>\n",
       "      <td>...</td>\n",
       "      <td>...</td>\n",
       "    </tr>\n",
       "    <tr>\n",
       "      <th>290244</th>\n",
       "      <td>945627</td>\n",
       "      <td>2</td>\n",
       "    </tr>\n",
       "    <tr>\n",
       "      <th>290259</th>\n",
       "      <td>945645</td>\n",
       "      <td>2</td>\n",
       "    </tr>\n",
       "    <tr>\n",
       "      <th>290315</th>\n",
       "      <td>945703</td>\n",
       "      <td>2</td>\n",
       "    </tr>\n",
       "    <tr>\n",
       "      <th>290399</th>\n",
       "      <td>945797</td>\n",
       "      <td>2</td>\n",
       "    </tr>\n",
       "    <tr>\n",
       "      <th>290556</th>\n",
       "      <td>945971</td>\n",
       "      <td>2</td>\n",
       "    </tr>\n",
       "  </tbody>\n",
       "</table>\n",
       "<p>3894 rows × 2 columns</p>\n",
       "</div>"
      ],
      "text/plain": [
       "        user_id  group\n",
       "43       630052      2\n",
       "111      630126      2\n",
       "122      630137      2\n",
       "281      630320      2\n",
       "420      630471      2\n",
       "...         ...    ...\n",
       "290244   945627      2\n",
       "290259   945645      2\n",
       "290315   945703      2\n",
       "290399   945797      2\n",
       "290556   945971      2\n",
       "\n",
       "[3894 rows x 2 columns]"
      ]
     },
     "execution_count": 424,
     "metadata": {},
     "output_type": "execute_result"
    }
   ],
   "source": [
    "print('Check if there are duplicates')\n",
    "count_df = ab_df.groupby('user_id').count().reset_index()\n",
    "duplicate_df = count_df[count_df['group']>1][['user_id','group']]\n",
    "duplicate_df"
   ]
  },
  {
   "cell_type": "code",
   "execution_count": 425,
   "metadata": {},
   "outputs": [],
   "source": [
    "duplicate_df = ab_df[ab_df['user_id'].isin(duplicate_df['user_id'])].sort_values(by='user_id')"
   ]
  },
  {
   "cell_type": "code",
   "execution_count": 426,
   "metadata": {},
   "outputs": [
    {
     "name": "stdout",
     "output_type": "stream",
     "text": [
      "0.026446797383845314\n"
     ]
    }
   ],
   "source": [
    "print(len(duplicate_df)/len(ab_df))"
   ]
  },
  {
   "attachments": {},
   "cell_type": "markdown",
   "metadata": {},
   "source": [
    "Seems like 3894 users have multiple records and they are exposed to both new and old landing page.\n",
    "if we exclude these users from the dataset we will loose only 2.6% of total records. \n",
    "Loosing 2.6% of data records should be okay in this case. \n",
    "\n"
   ]
  },
  {
   "cell_type": "code",
   "execution_count": 427,
   "metadata": {},
   "outputs": [
    {
     "data": {
      "text/html": [
       "<div>\n",
       "<style scoped>\n",
       "    .dataframe tbody tr th:only-of-type {\n",
       "        vertical-align: middle;\n",
       "    }\n",
       "\n",
       "    .dataframe tbody tr th {\n",
       "        vertical-align: top;\n",
       "    }\n",
       "\n",
       "    .dataframe thead th {\n",
       "        text-align: right;\n",
       "    }\n",
       "</style>\n",
       "<table border=\"1\" class=\"dataframe\">\n",
       "  <thead>\n",
       "    <tr style=\"text-align: right;\">\n",
       "      <th></th>\n",
       "      <th>user_id</th>\n",
       "      <th>timestamp</th>\n",
       "      <th>group</th>\n",
       "      <th>landing_page</th>\n",
       "      <th>converted</th>\n",
       "    </tr>\n",
       "  </thead>\n",
       "  <tbody>\n",
       "    <tr>\n",
       "      <th>0</th>\n",
       "      <td>851104</td>\n",
       "      <td>2017-01-21 22:11:00</td>\n",
       "      <td>control</td>\n",
       "      <td>old_page</td>\n",
       "      <td>0</td>\n",
       "    </tr>\n",
       "    <tr>\n",
       "      <th>1</th>\n",
       "      <td>804228</td>\n",
       "      <td>2017-01-12 08:01:00</td>\n",
       "      <td>control</td>\n",
       "      <td>old_page</td>\n",
       "      <td>0</td>\n",
       "    </tr>\n",
       "    <tr>\n",
       "      <th>2</th>\n",
       "      <td>661590</td>\n",
       "      <td>2017-01-11 16:55:00</td>\n",
       "      <td>treatment</td>\n",
       "      <td>new_page</td>\n",
       "      <td>0</td>\n",
       "    </tr>\n",
       "    <tr>\n",
       "      <th>3</th>\n",
       "      <td>853541</td>\n",
       "      <td>2017-01-08 18:28:00</td>\n",
       "      <td>treatment</td>\n",
       "      <td>new_page</td>\n",
       "      <td>0</td>\n",
       "    </tr>\n",
       "    <tr>\n",
       "      <th>4</th>\n",
       "      <td>864975</td>\n",
       "      <td>2017-01-21 01:52:00</td>\n",
       "      <td>control</td>\n",
       "      <td>old_page</td>\n",
       "      <td>1</td>\n",
       "    </tr>\n",
       "    <tr>\n",
       "      <th>...</th>\n",
       "      <td>...</td>\n",
       "      <td>...</td>\n",
       "      <td>...</td>\n",
       "      <td>...</td>\n",
       "      <td>...</td>\n",
       "    </tr>\n",
       "    <tr>\n",
       "      <th>294473</th>\n",
       "      <td>751197</td>\n",
       "      <td>2017-01-03 22:28:00</td>\n",
       "      <td>control</td>\n",
       "      <td>old_page</td>\n",
       "      <td>0</td>\n",
       "    </tr>\n",
       "    <tr>\n",
       "      <th>294474</th>\n",
       "      <td>945152</td>\n",
       "      <td>2017-01-12 00:51:00</td>\n",
       "      <td>control</td>\n",
       "      <td>old_page</td>\n",
       "      <td>0</td>\n",
       "    </tr>\n",
       "    <tr>\n",
       "      <th>294475</th>\n",
       "      <td>734608</td>\n",
       "      <td>2017-01-22 11:45:00</td>\n",
       "      <td>control</td>\n",
       "      <td>old_page</td>\n",
       "      <td>0</td>\n",
       "    </tr>\n",
       "    <tr>\n",
       "      <th>294476</th>\n",
       "      <td>697314</td>\n",
       "      <td>2017-01-15 01:20:00</td>\n",
       "      <td>control</td>\n",
       "      <td>old_page</td>\n",
       "      <td>0</td>\n",
       "    </tr>\n",
       "    <tr>\n",
       "      <th>294477</th>\n",
       "      <td>715931</td>\n",
       "      <td>2017-01-16 12:40:00</td>\n",
       "      <td>treatment</td>\n",
       "      <td>new_page</td>\n",
       "      <td>0</td>\n",
       "    </tr>\n",
       "  </tbody>\n",
       "</table>\n",
       "<p>286690 rows × 5 columns</p>\n",
       "</div>"
      ],
      "text/plain": [
       "        user_id            timestamp      group landing_page  converted\n",
       "0        851104  2017-01-21 22:11:00    control     old_page          0\n",
       "1        804228  2017-01-12 08:01:00    control     old_page          0\n",
       "2        661590  2017-01-11 16:55:00  treatment     new_page          0\n",
       "3        853541  2017-01-08 18:28:00  treatment     new_page          0\n",
       "4        864975  2017-01-21 01:52:00    control     old_page          1\n",
       "...         ...                  ...        ...          ...        ...\n",
       "294473   751197  2017-01-03 22:28:00    control     old_page          0\n",
       "294474   945152  2017-01-12 00:51:00    control     old_page          0\n",
       "294475   734608  2017-01-22 11:45:00    control     old_page          0\n",
       "294476   697314  2017-01-15 01:20:00    control     old_page          0\n",
       "294477   715931  2017-01-16 12:40:00  treatment     new_page          0\n",
       "\n",
       "[286690 rows x 5 columns]"
      ]
     },
     "execution_count": 427,
     "metadata": {},
     "output_type": "execute_result"
    }
   ],
   "source": [
    "ab_df = ab_df[~ab_df['user_id'].isin(duplicate_df['user_id'])]\n",
    "ab_df"
   ]
  },
  {
   "cell_type": "code",
   "execution_count": 428,
   "metadata": {},
   "outputs": [
    {
     "data": {
      "text/html": [
       "<div>\n",
       "<style scoped>\n",
       "    .dataframe tbody tr th:only-of-type {\n",
       "        vertical-align: middle;\n",
       "    }\n",
       "\n",
       "    .dataframe tbody tr th {\n",
       "        vertical-align: top;\n",
       "    }\n",
       "\n",
       "    .dataframe thead th {\n",
       "        text-align: right;\n",
       "    }\n",
       "</style>\n",
       "<table border=\"1\" class=\"dataframe\">\n",
       "  <thead>\n",
       "    <tr style=\"text-align: right;\">\n",
       "      <th></th>\n",
       "      <th>user_id</th>\n",
       "      <th>timestamp</th>\n",
       "      <th>group</th>\n",
       "      <th>landing_page</th>\n",
       "      <th>converted</th>\n",
       "    </tr>\n",
       "  </thead>\n",
       "  <tbody>\n",
       "    <tr>\n",
       "      <th>0</th>\n",
       "      <td>630000</td>\n",
       "      <td>1</td>\n",
       "      <td>1</td>\n",
       "      <td>1</td>\n",
       "      <td>1</td>\n",
       "    </tr>\n",
       "    <tr>\n",
       "      <th>191124</th>\n",
       "      <td>840746</td>\n",
       "      <td>1</td>\n",
       "      <td>1</td>\n",
       "      <td>1</td>\n",
       "      <td>1</td>\n",
       "    </tr>\n",
       "    <tr>\n",
       "      <th>191130</th>\n",
       "      <td>840752</td>\n",
       "      <td>1</td>\n",
       "      <td>1</td>\n",
       "      <td>1</td>\n",
       "      <td>1</td>\n",
       "    </tr>\n",
       "    <tr>\n",
       "      <th>191129</th>\n",
       "      <td>840751</td>\n",
       "      <td>1</td>\n",
       "      <td>1</td>\n",
       "      <td>1</td>\n",
       "      <td>1</td>\n",
       "    </tr>\n",
       "    <tr>\n",
       "      <th>191128</th>\n",
       "      <td>840750</td>\n",
       "      <td>1</td>\n",
       "      <td>1</td>\n",
       "      <td>1</td>\n",
       "      <td>1</td>\n",
       "    </tr>\n",
       "    <tr>\n",
       "      <th>...</th>\n",
       "      <td>...</td>\n",
       "      <td>...</td>\n",
       "      <td>...</td>\n",
       "      <td>...</td>\n",
       "      <td>...</td>\n",
       "    </tr>\n",
       "    <tr>\n",
       "      <th>95569</th>\n",
       "      <td>735348</td>\n",
       "      <td>1</td>\n",
       "      <td>1</td>\n",
       "      <td>1</td>\n",
       "      <td>1</td>\n",
       "    </tr>\n",
       "    <tr>\n",
       "      <th>95570</th>\n",
       "      <td>735349</td>\n",
       "      <td>1</td>\n",
       "      <td>1</td>\n",
       "      <td>1</td>\n",
       "      <td>1</td>\n",
       "    </tr>\n",
       "    <tr>\n",
       "      <th>95571</th>\n",
       "      <td>735350</td>\n",
       "      <td>1</td>\n",
       "      <td>1</td>\n",
       "      <td>1</td>\n",
       "      <td>1</td>\n",
       "    </tr>\n",
       "    <tr>\n",
       "      <th>95572</th>\n",
       "      <td>735351</td>\n",
       "      <td>1</td>\n",
       "      <td>1</td>\n",
       "      <td>1</td>\n",
       "      <td>1</td>\n",
       "    </tr>\n",
       "    <tr>\n",
       "      <th>286689</th>\n",
       "      <td>945999</td>\n",
       "      <td>1</td>\n",
       "      <td>1</td>\n",
       "      <td>1</td>\n",
       "      <td>1</td>\n",
       "    </tr>\n",
       "  </tbody>\n",
       "</table>\n",
       "<p>286690 rows × 5 columns</p>\n",
       "</div>"
      ],
      "text/plain": [
       "        user_id  timestamp  group  landing_page  converted\n",
       "0        630000          1      1             1          1\n",
       "191124   840746          1      1             1          1\n",
       "191130   840752          1      1             1          1\n",
       "191129   840751          1      1             1          1\n",
       "191128   840750          1      1             1          1\n",
       "...         ...        ...    ...           ...        ...\n",
       "95569    735348          1      1             1          1\n",
       "95570    735349          1      1             1          1\n",
       "95571    735350          1      1             1          1\n",
       "95572    735351          1      1             1          1\n",
       "286689   945999          1      1             1          1\n",
       "\n",
       "[286690 rows x 5 columns]"
      ]
     },
     "execution_count": 428,
     "metadata": {},
     "output_type": "execute_result"
    }
   ],
   "source": [
    "ab_df.groupby('user_id').count().reset_index().sort_values(by='group', ascending=False)"
   ]
  },
  {
   "cell_type": "code",
   "execution_count": 429,
   "metadata": {},
   "outputs": [
    {
     "data": {
      "text/html": [
       "<div>\n",
       "<style scoped>\n",
       "    .dataframe tbody tr th:only-of-type {\n",
       "        vertical-align: middle;\n",
       "    }\n",
       "\n",
       "    .dataframe tbody tr th {\n",
       "        vertical-align: top;\n",
       "    }\n",
       "\n",
       "    .dataframe thead th {\n",
       "        text-align: right;\n",
       "    }\n",
       "</style>\n",
       "<table border=\"1\" class=\"dataframe\">\n",
       "  <thead>\n",
       "    <tr style=\"text-align: right;\">\n",
       "      <th></th>\n",
       "      <th></th>\n",
       "      <th>user_id</th>\n",
       "      <th>timestamp</th>\n",
       "      <th>converted</th>\n",
       "    </tr>\n",
       "    <tr>\n",
       "      <th>group</th>\n",
       "      <th>landing_page</th>\n",
       "      <th></th>\n",
       "      <th></th>\n",
       "      <th></th>\n",
       "    </tr>\n",
       "  </thead>\n",
       "  <tbody>\n",
       "    <tr>\n",
       "      <th>control</th>\n",
       "      <th>old_page</th>\n",
       "      <td>143293</td>\n",
       "      <td>143293</td>\n",
       "      <td>143293</td>\n",
       "    </tr>\n",
       "    <tr>\n",
       "      <th>treatment</th>\n",
       "      <th>new_page</th>\n",
       "      <td>143397</td>\n",
       "      <td>143397</td>\n",
       "      <td>143397</td>\n",
       "    </tr>\n",
       "  </tbody>\n",
       "</table>\n",
       "</div>"
      ],
      "text/plain": [
       "                        user_id  timestamp  converted\n",
       "group     landing_page                               \n",
       "control   old_page       143293     143293     143293\n",
       "treatment new_page       143397     143397     143397"
      ]
     },
     "execution_count": 429,
     "metadata": {},
     "output_type": "execute_result"
    }
   ],
   "source": [
    "ab_df.groupby(['group','landing_page']).count()"
   ]
  },
  {
   "attachments": {},
   "cell_type": "markdown",
   "metadata": {},
   "source": [
    "After removing duplicates, updated dataset has control group that is exposed to only old_page and treatment group is only exposed to new_page."
   ]
  },
  {
   "cell_type": "code",
   "execution_count": 430,
   "metadata": {},
   "outputs": [
    {
     "data": {
      "text/html": [
       "<div>\n",
       "<style scoped>\n",
       "    .dataframe tbody tr th:only-of-type {\n",
       "        vertical-align: middle;\n",
       "    }\n",
       "\n",
       "    .dataframe tbody tr th {\n",
       "        vertical-align: top;\n",
       "    }\n",
       "\n",
       "    .dataframe thead th {\n",
       "        text-align: right;\n",
       "    }\n",
       "</style>\n",
       "<table border=\"1\" class=\"dataframe\">\n",
       "  <thead>\n",
       "    <tr style=\"text-align: right;\">\n",
       "      <th></th>\n",
       "      <th></th>\n",
       "      <th>user_id</th>\n",
       "      <th>timestamp</th>\n",
       "      <th>landing_page</th>\n",
       "    </tr>\n",
       "    <tr>\n",
       "      <th>group</th>\n",
       "      <th>converted</th>\n",
       "      <th></th>\n",
       "      <th></th>\n",
       "      <th></th>\n",
       "    </tr>\n",
       "  </thead>\n",
       "  <tbody>\n",
       "    <tr>\n",
       "      <th rowspan=\"2\" valign=\"top\">control</th>\n",
       "      <th>0</th>\n",
       "      <td>126073</td>\n",
       "      <td>126073</td>\n",
       "      <td>126073</td>\n",
       "    </tr>\n",
       "    <tr>\n",
       "      <th>1</th>\n",
       "      <td>17220</td>\n",
       "      <td>17220</td>\n",
       "      <td>17220</td>\n",
       "    </tr>\n",
       "    <tr>\n",
       "      <th rowspan=\"2\" valign=\"top\">treatment</th>\n",
       "      <th>0</th>\n",
       "      <td>126372</td>\n",
       "      <td>126372</td>\n",
       "      <td>126372</td>\n",
       "    </tr>\n",
       "    <tr>\n",
       "      <th>1</th>\n",
       "      <td>17025</td>\n",
       "      <td>17025</td>\n",
       "      <td>17025</td>\n",
       "    </tr>\n",
       "  </tbody>\n",
       "</table>\n",
       "</div>"
      ],
      "text/plain": [
       "                     user_id  timestamp  landing_page\n",
       "group     converted                                  \n",
       "control   0           126073     126073        126073\n",
       "          1            17220      17220         17220\n",
       "treatment 0           126372     126372        126372\n",
       "          1            17025      17025         17025"
      ]
     },
     "execution_count": 430,
     "metadata": {},
     "output_type": "execute_result"
    }
   ],
   "source": [
    "ab_df.groupby(['group','converted']).count()"
   ]
  },
  {
   "attachments": {},
   "cell_type": "markdown",
   "metadata": {},
   "source": [
    "# Frequentist Test"
   ]
  },
  {
   "cell_type": "code",
   "execution_count": 393,
   "metadata": {},
   "outputs": [],
   "source": [
    "control_df = ab_df[ab_df['group']=='control']\n",
    "treatment_df = ab_df[ab_df['group']=='treatment']\n",
    "\n"
   ]
  },
  {
   "cell_type": "code",
   "execution_count": 394,
   "metadata": {},
   "outputs": [
    {
     "name": "stdout",
     "output_type": "stream",
     "text": [
      "control group count is 143293\n",
      "treatment group count is 143397\n"
     ]
    }
   ],
   "source": [
    "control_group_count = len(control_df)\n",
    "treatment_group_count = len(treatment_df)\n",
    "\n",
    "print(f'control group count is {control_group_count}')\n",
    "print(f'treatment group count is {treatment_group_count}')"
   ]
  },
  {
   "cell_type": "code",
   "execution_count": 395,
   "metadata": {},
   "outputs": [
    {
     "name": "stdout",
     "output_type": "stream",
     "text": [
      "count of control group conversion is 17220\n",
      "count of treatment group conversion is 17025\n"
     ]
    }
   ],
   "source": [
    "control_group_conversion_count = len(control_df[control_df['converted'] == 1])\n",
    "treatment_group_conversion_count = len(treatment_df[treatment_df['converted'] == 1])\n",
    "\n",
    "print(f'count of control group conversion is {control_group_conversion_count}')\n",
    "print(f'count of treatment group conversion is {treatment_group_conversion_count}')"
   ]
  },
  {
   "cell_type": "code",
   "execution_count": 396,
   "metadata": {},
   "outputs": [
    {
     "name": "stdout",
     "output_type": "stream",
     "text": [
      "mean of control group conversion is 0.12017335110577627\n",
      "mean of treatment group conversion is 0.11872633318688676\n"
     ]
    }
   ],
   "source": [
    "control_group_conversion_rate = len(control_df[control_df['converted'] == 1])/len(control_df)\n",
    "treatment_group_conversion_rate = len(treatment_df[treatment_df['converted'] == 1])/len(treatment_df)\n",
    "\n",
    "print(f'mean of control group conversion is {control_group_conversion_rate}')\n",
    "print(f'mean of treatment group conversion is {treatment_group_conversion_rate}')"
   ]
  },
  {
   "attachments": {},
   "cell_type": "markdown",
   "metadata": {},
   "source": [
    "## Hypothesis Test"
   ]
  },
  {
   "attachments": {},
   "cell_type": "markdown",
   "metadata": {},
   "source": [
    "H0 = There is no signaficant difference b/w mean of control group and treatement group conversion  \n",
    "H1 = mean of treatement group conversion > mean of control group conversion"
   ]
  },
  {
   "cell_type": "code",
   "execution_count": 450,
   "metadata": {},
   "outputs": [],
   "source": [
    "def two_sample_test_for_proportions(c, t, nc, nt):\n",
    "    combined_p = (c+t)/(nc+nt)\n",
    "    # print(f'combined_p is {combined_p}')\n",
    "    Z = (((t/nt)-(c/nc)) - 0) / (combined_p * (1-combined_p) * ((1/nt)+(1/nc)))**.5\n",
    "\n",
    "    mu = (((t/nt)-(c/nc)) - 0)\n",
    "    sd = (combined_p * (1-combined_p) * ((1/nt)+(1/nc)))**.5\n",
    "    \n",
    "    \n",
    "    print(f'mean is {(((t/nt)-(c/nc)) - 0)}')\n",
    "    print(f'standard deviation is {(combined_p * (1-combined_p) * ((1/nt)+(1/nc)))**.5}')\n",
    "    print(f'Z statistics is {Z}')\n",
    "    return [Z, mu, sd]"
   ]
  },
  {
   "cell_type": "code",
   "execution_count": 451,
   "metadata": {},
   "outputs": [
    {
     "name": "stdout",
     "output_type": "stream",
     "text": [
      "mean is -0.12017252699610162\n",
      "standard deviation is 0.000887532748952894\n",
      "Z statistics is -135.4006679053595\n"
     ]
    }
   ],
   "source": [
    "z_statistic = two_sample_test_for_proportions(control_group_conversion_count,treatment_group_conversion_rate,control_group_count,treatment_group_count)"
   ]
  },
  {
   "cell_type": "code",
   "execution_count": 472,
   "metadata": {},
   "outputs": [
    {
     "data": {
      "image/png": "[encoded data removed]",
      "text/plain": [
       "<Figure size 640x480 with 1 Axes>"
      ]
     },
     "metadata": {},
     "output_type": "display_data"
    }
   ],
   "source": [
    "data = np.random.normal(z_statistic[1], z_statistic[2], 1000)\n",
    "sns.histplot(data, kde=True)\n",
    "plt.xlabel('Proportions')\n",
    "plt.ylabel('PDF')\n",
    "plt.show()  "
   ]
  },
  {
   "cell_type": "code",
   "execution_count": 481,
   "metadata": {},
   "outputs": [
    {
     "data": {
      "image/png": "[encoded data removed]",
      "text/plain": [
       "<Figure size 640x480 with 1 Axes>"
      ]
     },
     "metadata": {},
     "output_type": "display_data"
    }
   ],
   "source": [
    "data = np.random.normal(z_statistic[1], z_statistic[2], 1000)\n",
    "sns.histplot(data, kde=True)\n",
    "plt.xlabel('Proportions')\n",
    "plt.ylabel('PDF')\n",
    "plt.scatter(z_statistic[0], [0], color='red', label=f'Z Value {z_statistic[0]:.2f}')\n",
    "plt.legend()\n",
    "plt.show()   "
   ]
  },
  {
   "cell_type": "code",
   "execution_count": 399,
   "metadata": {},
   "outputs": [
    {
     "name": "stdout",
     "output_type": "stream",
     "text": [
      "P-value is 0.0\n",
      "Reject the null hypothesis\n"
     ]
    }
   ],
   "source": [
    "# Calculate the two-tailed p-value\n",
    "p_value = 2 * (1 - norm.cdf(abs(z_statistic)))\n",
    "\n",
    "# Print the result\n",
    "print(f\"P-value is {p_value}\")\n",
    "\n",
    "# Check the significance level (commonly 0.05)\n",
    "alpha = 0.05\n",
    "if p_value < alpha:\n",
    "    print(\"Reject the null hypothesis\")\n",
    "else:\n",
    "    print(\"Fail to reject the null hypothesis\")"
   ]
  },
  {
   "cell_type": "code",
   "execution_count": 400,
   "metadata": {},
   "outputs": [
    {
     "name": "stdout",
     "output_type": "stream",
     "text": [
      "Z-statistic: 135.40066154264042\n",
      "P-value: 0.0\n",
      "Reject the null hypothesis\n"
     ]
    }
   ],
   "source": [
    "# p value using statsmodels.stats.proportion library\n",
    "\n",
    "stat, p_value = proportions_ztest([control_group_conversion_count, treatment_group_conversion_rate], [control_group_count, treatment_group_count])\n",
    "\n",
    "# Output the results\n",
    "print(f\"Z-statistic: {stat}\")\n",
    "print(f\"P-value: {p_value}\")\n",
    "\n",
    "# Check the significance level (commonly 0.05)\n",
    "alpha = 0.05\n",
    "if p_value < alpha:\n",
    "    print(\"Reject the null hypothesis\")\n",
    "else:\n",
    "    print(\"Fail to reject the null hypothesis\")\n"
   ]
  },
  {
   "attachments": {},
   "cell_type": "markdown",
   "metadata": {},
   "source": [
    "# Bayesian Test"
   ]
  },
  {
   "cell_type": "code",
   "execution_count": 401,
   "metadata": {},
   "outputs": [
    {
     "name": "stdout",
     "output_type": "stream",
     "text": [
      "2017-01-24 13:41:00\n",
      "2017-01-02 13:42:00\n",
      "Data collection done for 21 days 23:59:00\n"
     ]
    }
   ],
   "source": [
    "min_date = ab_df['timestamp'].min()\n",
    "max_date = ab_df['timestamp'].max()\n",
    "\n",
    "print(max_date)\n",
    "print(min_date)\n",
    "\n",
    "print(f'Data collection done for {max_date - min_date}')"
   ]
  },
  {
   "cell_type": "code",
   "execution_count": 418,
   "metadata": {},
   "outputs": [
    {
     "data": {
      "text/html": [
       "<div>\n",
       "<style scoped>\n",
       "    .dataframe tbody tr th:only-of-type {\n",
       "        vertical-align: middle;\n",
       "    }\n",
       "\n",
       "    .dataframe tbody tr th {\n",
       "        vertical-align: top;\n",
       "    }\n",
       "\n",
       "    .dataframe thead th {\n",
       "        text-align: right;\n",
       "    }\n",
       "</style>\n",
       "<table border=\"1\" class=\"dataframe\">\n",
       "  <thead>\n",
       "    <tr style=\"text-align: right;\">\n",
       "      <th></th>\n",
       "      <th>user_id</th>\n",
       "      <th>timestamp</th>\n",
       "      <th>group</th>\n",
       "      <th>landing_page</th>\n",
       "      <th>converted</th>\n",
       "      <th>Week</th>\n",
       "    </tr>\n",
       "  </thead>\n",
       "  <tbody>\n",
       "    <tr>\n",
       "      <th>0</th>\n",
       "      <td>851104</td>\n",
       "      <td>2017-01-21 22:11:00</td>\n",
       "      <td>control</td>\n",
       "      <td>old_page</td>\n",
       "      <td>0</td>\n",
       "      <td>3</td>\n",
       "    </tr>\n",
       "    <tr>\n",
       "      <th>1</th>\n",
       "      <td>804228</td>\n",
       "      <td>2017-01-12 08:01:00</td>\n",
       "      <td>control</td>\n",
       "      <td>old_page</td>\n",
       "      <td>0</td>\n",
       "      <td>2</td>\n",
       "    </tr>\n",
       "    <tr>\n",
       "      <th>2</th>\n",
       "      <td>661590</td>\n",
       "      <td>2017-01-11 16:55:00</td>\n",
       "      <td>treatment</td>\n",
       "      <td>new_page</td>\n",
       "      <td>0</td>\n",
       "      <td>2</td>\n",
       "    </tr>\n",
       "    <tr>\n",
       "      <th>3</th>\n",
       "      <td>853541</td>\n",
       "      <td>2017-01-08 18:28:00</td>\n",
       "      <td>treatment</td>\n",
       "      <td>new_page</td>\n",
       "      <td>0</td>\n",
       "      <td>1</td>\n",
       "    </tr>\n",
       "    <tr>\n",
       "      <th>4</th>\n",
       "      <td>864975</td>\n",
       "      <td>2017-01-21 01:52:00</td>\n",
       "      <td>control</td>\n",
       "      <td>old_page</td>\n",
       "      <td>1</td>\n",
       "      <td>3</td>\n",
       "    </tr>\n",
       "    <tr>\n",
       "      <th>...</th>\n",
       "      <td>...</td>\n",
       "      <td>...</td>\n",
       "      <td>...</td>\n",
       "      <td>...</td>\n",
       "      <td>...</td>\n",
       "      <td>...</td>\n",
       "    </tr>\n",
       "    <tr>\n",
       "      <th>294473</th>\n",
       "      <td>751197</td>\n",
       "      <td>2017-01-03 22:28:00</td>\n",
       "      <td>control</td>\n",
       "      <td>old_page</td>\n",
       "      <td>0</td>\n",
       "      <td>1</td>\n",
       "    </tr>\n",
       "    <tr>\n",
       "      <th>294474</th>\n",
       "      <td>945152</td>\n",
       "      <td>2017-01-12 00:51:00</td>\n",
       "      <td>control</td>\n",
       "      <td>old_page</td>\n",
       "      <td>0</td>\n",
       "      <td>2</td>\n",
       "    </tr>\n",
       "    <tr>\n",
       "      <th>294475</th>\n",
       "      <td>734608</td>\n",
       "      <td>2017-01-22 11:45:00</td>\n",
       "      <td>control</td>\n",
       "      <td>old_page</td>\n",
       "      <td>0</td>\n",
       "      <td>3</td>\n",
       "    </tr>\n",
       "    <tr>\n",
       "      <th>294476</th>\n",
       "      <td>697314</td>\n",
       "      <td>2017-01-15 01:20:00</td>\n",
       "      <td>control</td>\n",
       "      <td>old_page</td>\n",
       "      <td>0</td>\n",
       "      <td>2</td>\n",
       "    </tr>\n",
       "    <tr>\n",
       "      <th>294477</th>\n",
       "      <td>715931</td>\n",
       "      <td>2017-01-16 12:40:00</td>\n",
       "      <td>treatment</td>\n",
       "      <td>new_page</td>\n",
       "      <td>0</td>\n",
       "      <td>3</td>\n",
       "    </tr>\n",
       "  </tbody>\n",
       "</table>\n",
       "<p>286690 rows × 6 columns</p>\n",
       "</div>"
      ],
      "text/plain": [
       "        user_id            timestamp      group landing_page  converted  Week\n",
       "0        851104  2017-01-21 22:11:00    control     old_page          0     3\n",
       "1        804228  2017-01-12 08:01:00    control     old_page          0     2\n",
       "2        661590  2017-01-11 16:55:00  treatment     new_page          0     2\n",
       "3        853541  2017-01-08 18:28:00  treatment     new_page          0     1\n",
       "4        864975  2017-01-21 01:52:00    control     old_page          1     3\n",
       "...         ...                  ...        ...          ...        ...   ...\n",
       "294473   751197  2017-01-03 22:28:00    control     old_page          0     1\n",
       "294474   945152  2017-01-12 00:51:00    control     old_page          0     2\n",
       "294475   734608  2017-01-22 11:45:00    control     old_page          0     3\n",
       "294476   697314  2017-01-15 01:20:00    control     old_page          0     2\n",
       "294477   715931  2017-01-16 12:40:00  treatment     new_page          0     3\n",
       "\n",
       "[286690 rows x 6 columns]"
      ]
     },
     "execution_count": 418,
     "metadata": {},
     "output_type": "execute_result"
    }
   ],
   "source": [
    "ab_df.loc[:,'Week'] = ab_df['timestamp'].apply(lambda x: x.isocalendar()[1])\n",
    "ab_df"
   ]
  },
  {
   "cell_type": "code",
   "execution_count": 404,
   "metadata": {},
   "outputs": [
    {
     "data": {
      "text/html": [
       "<div>\n",
       "<style scoped>\n",
       "    .dataframe tbody tr th:only-of-type {\n",
       "        vertical-align: middle;\n",
       "    }\n",
       "\n",
       "    .dataframe tbody tr th {\n",
       "        vertical-align: top;\n",
       "    }\n",
       "\n",
       "    .dataframe thead th {\n",
       "        text-align: right;\n",
       "    }\n",
       "</style>\n",
       "<table border=\"1\" class=\"dataframe\">\n",
       "  <thead>\n",
       "    <tr style=\"text-align: right;\">\n",
       "      <th></th>\n",
       "      <th></th>\n",
       "      <th>user_id</th>\n",
       "      <th>timestamp</th>\n",
       "      <th>landing_page</th>\n",
       "      <th>converted</th>\n",
       "    </tr>\n",
       "    <tr>\n",
       "      <th>group</th>\n",
       "      <th>Week</th>\n",
       "      <th></th>\n",
       "      <th></th>\n",
       "      <th></th>\n",
       "      <th></th>\n",
       "    </tr>\n",
       "  </thead>\n",
       "  <tbody>\n",
       "    <tr>\n",
       "      <th rowspan=\"4\" valign=\"top\">control</th>\n",
       "      <th>1</th>\n",
       "      <td>41731</td>\n",
       "      <td>41731</td>\n",
       "      <td>41731</td>\n",
       "      <td>41731</td>\n",
       "    </tr>\n",
       "    <tr>\n",
       "      <th>2</th>\n",
       "      <td>45685</td>\n",
       "      <td>45685</td>\n",
       "      <td>45685</td>\n",
       "      <td>45685</td>\n",
       "    </tr>\n",
       "    <tr>\n",
       "      <th>3</th>\n",
       "      <td>45538</td>\n",
       "      <td>45538</td>\n",
       "      <td>45538</td>\n",
       "      <td>45538</td>\n",
       "    </tr>\n",
       "    <tr>\n",
       "      <th>4</th>\n",
       "      <td>10339</td>\n",
       "      <td>10339</td>\n",
       "      <td>10339</td>\n",
       "      <td>10339</td>\n",
       "    </tr>\n",
       "    <tr>\n",
       "      <th rowspan=\"4\" valign=\"top\">treatment</th>\n",
       "      <th>1</th>\n",
       "      <td>42014</td>\n",
       "      <td>42014</td>\n",
       "      <td>42014</td>\n",
       "      <td>42014</td>\n",
       "    </tr>\n",
       "    <tr>\n",
       "      <th>2</th>\n",
       "      <td>45695</td>\n",
       "      <td>45695</td>\n",
       "      <td>45695</td>\n",
       "      <td>45695</td>\n",
       "    </tr>\n",
       "    <tr>\n",
       "      <th>3</th>\n",
       "      <td>45518</td>\n",
       "      <td>45518</td>\n",
       "      <td>45518</td>\n",
       "      <td>45518</td>\n",
       "    </tr>\n",
       "    <tr>\n",
       "      <th>4</th>\n",
       "      <td>10170</td>\n",
       "      <td>10170</td>\n",
       "      <td>10170</td>\n",
       "      <td>10170</td>\n",
       "    </tr>\n",
       "  </tbody>\n",
       "</table>\n",
       "</div>"
      ],
      "text/plain": [
       "                user_id  timestamp  landing_page  converted\n",
       "group     Week                                             \n",
       "control   1       41731      41731         41731      41731\n",
       "          2       45685      45685         45685      45685\n",
       "          3       45538      45538         45538      45538\n",
       "          4       10339      10339         10339      10339\n",
       "treatment 1       42014      42014         42014      42014\n",
       "          2       45695      45695         45695      45695\n",
       "          3       45518      45518         45518      45518\n",
       "          4       10170      10170         10170      10170"
      ]
     },
     "execution_count": 404,
     "metadata": {},
     "output_type": "execute_result"
    }
   ],
   "source": [
    "ab_df.groupby(['group','Week']).count()"
   ]
  },
  {
   "cell_type": "code",
   "execution_count": 405,
   "metadata": {},
   "outputs": [
    {
     "data": {
      "text/html": [
       "<div>\n",
       "<style scoped>\n",
       "    .dataframe tbody tr th:only-of-type {\n",
       "        vertical-align: middle;\n",
       "    }\n",
       "\n",
       "    .dataframe tbody tr th {\n",
       "        vertical-align: top;\n",
       "    }\n",
       "\n",
       "    .dataframe thead th {\n",
       "        text-align: right;\n",
       "    }\n",
       "</style>\n",
       "<table border=\"1\" class=\"dataframe\">\n",
       "  <thead>\n",
       "    <tr style=\"text-align: right;\">\n",
       "      <th></th>\n",
       "      <th>user_id</th>\n",
       "      <th>timestamp</th>\n",
       "      <th>group</th>\n",
       "      <th>landing_page</th>\n",
       "      <th>converted</th>\n",
       "      <th>Week</th>\n",
       "    </tr>\n",
       "  </thead>\n",
       "  <tbody>\n",
       "    <tr>\n",
       "      <th>3</th>\n",
       "      <td>853541</td>\n",
       "      <td>2017-01-08 18:28:00</td>\n",
       "      <td>treatment</td>\n",
       "      <td>new_page</td>\n",
       "      <td>0</td>\n",
       "      <td>1</td>\n",
       "    </tr>\n",
       "    <tr>\n",
       "      <th>8</th>\n",
       "      <td>817355</td>\n",
       "      <td>2017-01-04 17:58:00</td>\n",
       "      <td>treatment</td>\n",
       "      <td>new_page</td>\n",
       "      <td>1</td>\n",
       "      <td>1</td>\n",
       "    </tr>\n",
       "    <tr>\n",
       "      <th>17</th>\n",
       "      <td>888545</td>\n",
       "      <td>2017-01-08 06:37:00</td>\n",
       "      <td>treatment</td>\n",
       "      <td>new_page</td>\n",
       "      <td>1</td>\n",
       "      <td>1</td>\n",
       "    </tr>\n",
       "    <tr>\n",
       "      <th>26</th>\n",
       "      <td>892356</td>\n",
       "      <td>2017-01-05 09:35:00</td>\n",
       "      <td>treatment</td>\n",
       "      <td>new_page</td>\n",
       "      <td>1</td>\n",
       "      <td>1</td>\n",
       "    </tr>\n",
       "    <tr>\n",
       "      <th>29</th>\n",
       "      <td>736159</td>\n",
       "      <td>2017-01-06 01:50:00</td>\n",
       "      <td>treatment</td>\n",
       "      <td>new_page</td>\n",
       "      <td>0</td>\n",
       "      <td>1</td>\n",
       "    </tr>\n",
       "    <tr>\n",
       "      <th>...</th>\n",
       "      <td>...</td>\n",
       "      <td>...</td>\n",
       "      <td>...</td>\n",
       "      <td>...</td>\n",
       "      <td>...</td>\n",
       "      <td>...</td>\n",
       "    </tr>\n",
       "    <tr>\n",
       "      <th>294465</th>\n",
       "      <td>925675</td>\n",
       "      <td>2017-01-07 20:38:00</td>\n",
       "      <td>treatment</td>\n",
       "      <td>new_page</td>\n",
       "      <td>0</td>\n",
       "      <td>1</td>\n",
       "    </tr>\n",
       "    <tr>\n",
       "      <th>294467</th>\n",
       "      <td>857744</td>\n",
       "      <td>2017-01-05 08:00:00</td>\n",
       "      <td>control</td>\n",
       "      <td>old_page</td>\n",
       "      <td>0</td>\n",
       "      <td>1</td>\n",
       "    </tr>\n",
       "    <tr>\n",
       "      <th>294468</th>\n",
       "      <td>643562</td>\n",
       "      <td>2017-01-02 19:20:00</td>\n",
       "      <td>treatment</td>\n",
       "      <td>new_page</td>\n",
       "      <td>0</td>\n",
       "      <td>1</td>\n",
       "    </tr>\n",
       "    <tr>\n",
       "      <th>294472</th>\n",
       "      <td>822004</td>\n",
       "      <td>2017-01-04 03:36:00</td>\n",
       "      <td>treatment</td>\n",
       "      <td>new_page</td>\n",
       "      <td>0</td>\n",
       "      <td>1</td>\n",
       "    </tr>\n",
       "    <tr>\n",
       "      <th>294473</th>\n",
       "      <td>751197</td>\n",
       "      <td>2017-01-03 22:28:00</td>\n",
       "      <td>control</td>\n",
       "      <td>old_page</td>\n",
       "      <td>0</td>\n",
       "      <td>1</td>\n",
       "    </tr>\n",
       "  </tbody>\n",
       "</table>\n",
       "<p>83745 rows × 6 columns</p>\n",
       "</div>"
      ],
      "text/plain": [
       "        user_id            timestamp      group landing_page  converted  Week\n",
       "3        853541  2017-01-08 18:28:00  treatment     new_page          0     1\n",
       "8        817355  2017-01-04 17:58:00  treatment     new_page          1     1\n",
       "17       888545  2017-01-08 06:37:00  treatment     new_page          1     1\n",
       "26       892356  2017-01-05 09:35:00  treatment     new_page          1     1\n",
       "29       736159  2017-01-06 01:50:00  treatment     new_page          0     1\n",
       "...         ...                  ...        ...          ...        ...   ...\n",
       "294465   925675  2017-01-07 20:38:00  treatment     new_page          0     1\n",
       "294467   857744  2017-01-05 08:00:00    control     old_page          0     1\n",
       "294468   643562  2017-01-02 19:20:00  treatment     new_page          0     1\n",
       "294472   822004  2017-01-04 03:36:00  treatment     new_page          0     1\n",
       "294473   751197  2017-01-03 22:28:00    control     old_page          0     1\n",
       "\n",
       "[83745 rows x 6 columns]"
      ]
     },
     "execution_count": 405,
     "metadata": {},
     "output_type": "execute_result"
    }
   ],
   "source": [
    "wk = 1\n",
    "Prior_Dataset = ab_df[ab_df['Week']==wk]\n",
    "Prior_Dataset"
   ]
  },
  {
   "cell_type": "code",
   "execution_count": 406,
   "metadata": {},
   "outputs": [],
   "source": [
    "control_prior_df = Prior_Dataset[Prior_Dataset['group']=='control']\n",
    "treatment_prior_df = Prior_Dataset[Prior_Dataset['group']=='treatment']"
   ]
  },
  {
   "cell_type": "code",
   "execution_count": 407,
   "metadata": {},
   "outputs": [
    {
     "name": "stdout",
     "output_type": "stream",
     "text": [
      "Week : 1\n",
      "mean of control group conversion is 11.92%\n",
      "mean of treatment group conversion is 11.78%\n",
      "Prior Lift = -0.011%\n"
     ]
    }
   ],
   "source": [
    "control_group_conversion_rate = len(control_prior_df[control_prior_df['converted'] == 1])/len(control_prior_df)\n",
    "treatment_group_conversion_rate = len(treatment_prior_df[treatment_prior_df['converted'] == 1])/len(treatment_prior_df)\n",
    "\n",
    "print(f'Week : {wk}')\n",
    "print(f'mean of control group conversion is {round(control_group_conversion_rate*100,2)}%')\n",
    "print(f'mean of treatment group conversion is {round(treatment_group_conversion_rate*100,2)}%')\n",
    "prior_lift = round((treatment_group_conversion_rate - control_group_conversion_rate) / control_group_conversion_rate , 3)\n",
    "print(f\"Prior Lift = {prior_lift}%\")"
   ]
  },
  {
   "cell_type": "code",
   "execution_count": 408,
   "metadata": {},
   "outputs": [],
   "source": [
    "prior_means = []\n",
    "for i in range(10000):\n",
    "    prior_means.append(control_prior_df.sample(1000)['converted'].mean())"
   ]
  },
  {
   "cell_type": "code",
   "execution_count": 409,
   "metadata": {},
   "outputs": [
    {
     "name": "stdout",
     "output_type": "stream",
     "text": [
      "0.11908710000000074\n"
     ]
    }
   ],
   "source": [
    "mean_value = sum(prior_means) / len(prior_means)\n",
    "print(mean_value)"
   ]
  },
  {
   "cell_type": "code",
   "execution_count": 410,
   "metadata": {},
   "outputs": [
    {
     "data": {
      "text/html": [
       "<div>\n",
       "<style scoped>\n",
       "    .dataframe tbody tr th:only-of-type {\n",
       "        vertical-align: middle;\n",
       "    }\n",
       "\n",
       "    .dataframe tbody tr th {\n",
       "        vertical-align: top;\n",
       "    }\n",
       "\n",
       "    .dataframe thead th {\n",
       "        text-align: right;\n",
       "    }\n",
       "</style>\n",
       "<table border=\"1\" class=\"dataframe\">\n",
       "  <thead>\n",
       "    <tr style=\"text-align: right;\">\n",
       "      <th></th>\n",
       "      <th>user_id</th>\n",
       "      <th>timestamp</th>\n",
       "      <th>group</th>\n",
       "      <th>landing_page</th>\n",
       "      <th>converted</th>\n",
       "      <th>Week</th>\n",
       "    </tr>\n",
       "  </thead>\n",
       "  <tbody>\n",
       "    <tr>\n",
       "      <th>1</th>\n",
       "      <td>804228</td>\n",
       "      <td>2017-01-12 08:01:00</td>\n",
       "      <td>control</td>\n",
       "      <td>old_page</td>\n",
       "      <td>0</td>\n",
       "      <td>2</td>\n",
       "    </tr>\n",
       "    <tr>\n",
       "      <th>2</th>\n",
       "      <td>661590</td>\n",
       "      <td>2017-01-11 16:55:00</td>\n",
       "      <td>treatment</td>\n",
       "      <td>new_page</td>\n",
       "      <td>0</td>\n",
       "      <td>2</td>\n",
       "    </tr>\n",
       "    <tr>\n",
       "      <th>5</th>\n",
       "      <td>936923</td>\n",
       "      <td>2017-01-10 15:20:00</td>\n",
       "      <td>control</td>\n",
       "      <td>old_page</td>\n",
       "      <td>0</td>\n",
       "      <td>2</td>\n",
       "    </tr>\n",
       "    <tr>\n",
       "      <th>9</th>\n",
       "      <td>839785</td>\n",
       "      <td>2017-01-15 18:11:00</td>\n",
       "      <td>treatment</td>\n",
       "      <td>new_page</td>\n",
       "      <td>1</td>\n",
       "      <td>2</td>\n",
       "    </tr>\n",
       "    <tr>\n",
       "      <th>12</th>\n",
       "      <td>803683</td>\n",
       "      <td>2017-01-09 06:05:00</td>\n",
       "      <td>treatment</td>\n",
       "      <td>new_page</td>\n",
       "      <td>0</td>\n",
       "      <td>2</td>\n",
       "    </tr>\n",
       "    <tr>\n",
       "      <th>...</th>\n",
       "      <td>...</td>\n",
       "      <td>...</td>\n",
       "      <td>...</td>\n",
       "      <td>...</td>\n",
       "      <td>...</td>\n",
       "      <td>...</td>\n",
       "    </tr>\n",
       "    <tr>\n",
       "      <th>294461</th>\n",
       "      <td>740310</td>\n",
       "      <td>2017-01-10 17:22:00</td>\n",
       "      <td>control</td>\n",
       "      <td>old_page</td>\n",
       "      <td>0</td>\n",
       "      <td>2</td>\n",
       "    </tr>\n",
       "    <tr>\n",
       "      <th>294466</th>\n",
       "      <td>923948</td>\n",
       "      <td>2017-01-09 16:33:00</td>\n",
       "      <td>control</td>\n",
       "      <td>old_page</td>\n",
       "      <td>0</td>\n",
       "      <td>2</td>\n",
       "    </tr>\n",
       "    <tr>\n",
       "      <th>294470</th>\n",
       "      <td>908354</td>\n",
       "      <td>2017-01-11 02:42:00</td>\n",
       "      <td>control</td>\n",
       "      <td>old_page</td>\n",
       "      <td>0</td>\n",
       "      <td>2</td>\n",
       "    </tr>\n",
       "    <tr>\n",
       "      <th>294474</th>\n",
       "      <td>945152</td>\n",
       "      <td>2017-01-12 00:51:00</td>\n",
       "      <td>control</td>\n",
       "      <td>old_page</td>\n",
       "      <td>0</td>\n",
       "      <td>2</td>\n",
       "    </tr>\n",
       "    <tr>\n",
       "      <th>294476</th>\n",
       "      <td>697314</td>\n",
       "      <td>2017-01-15 01:20:00</td>\n",
       "      <td>control</td>\n",
       "      <td>old_page</td>\n",
       "      <td>0</td>\n",
       "      <td>2</td>\n",
       "    </tr>\n",
       "  </tbody>\n",
       "</table>\n",
       "<p>91380 rows × 6 columns</p>\n",
       "</div>"
      ],
      "text/plain": [
       "        user_id            timestamp      group landing_page  converted  Week\n",
       "1        804228  2017-01-12 08:01:00    control     old_page          0     2\n",
       "2        661590  2017-01-11 16:55:00  treatment     new_page          0     2\n",
       "5        936923  2017-01-10 15:20:00    control     old_page          0     2\n",
       "9        839785  2017-01-15 18:11:00  treatment     new_page          1     2\n",
       "12       803683  2017-01-09 06:05:00  treatment     new_page          0     2\n",
       "...         ...                  ...        ...          ...        ...   ...\n",
       "294461   740310  2017-01-10 17:22:00    control     old_page          0     2\n",
       "294466   923948  2017-01-09 16:33:00    control     old_page          0     2\n",
       "294470   908354  2017-01-11 02:42:00    control     old_page          0     2\n",
       "294474   945152  2017-01-12 00:51:00    control     old_page          0     2\n",
       "294476   697314  2017-01-15 01:20:00    control     old_page          0     2\n",
       "\n",
       "[91380 rows x 6 columns]"
      ]
     },
     "execution_count": 410,
     "metadata": {},
     "output_type": "execute_result"
    }
   ],
   "source": [
    "posterier_wk = 2\n",
    "Posterier_Dataset = ab_df[(ab_df['Week'] > 1) & (ab_df['Week']<=posterier_wk)]\n",
    "Posterier_Dataset"
   ]
  },
  {
   "cell_type": "code",
   "execution_count": 411,
   "metadata": {},
   "outputs": [],
   "source": [
    "control_posterier_df = Posterier_Dataset[Posterier_Dataset['group']=='control']\n",
    "treatment_posterier_df = Posterier_Dataset[Posterier_Dataset['group']=='treatment']"
   ]
  },
  {
   "cell_type": "code",
   "execution_count": 412,
   "metadata": {},
   "outputs": [
    {
     "name": "stdout",
     "output_type": "stream",
     "text": [
      "Dataset for week 1 to 2\n",
      "mean of control group conversion is 11.93%\n",
      "mean of treatment group conversion is 11.82%\n",
      "Posterier Lift = -0.009%\n"
     ]
    }
   ],
   "source": [
    "control_group_conversion_rate = len(control_posterier_df[control_posterier_df['converted'] == 1])/len(control_posterier_df)\n",
    "treatment_group_conversion_rate = len(treatment_posterier_df[treatment_posterier_df['converted'] == 1])/len(treatment_posterier_df)\n",
    "\n",
    "print(f'Dataset for week 1 to {posterier_wk}')\n",
    "print(f'mean of control group conversion is {round(control_group_conversion_rate*100,2)}%')\n",
    "print(f'mean of treatment group conversion is {round(treatment_group_conversion_rate*100,2)}%')\n",
    "posterier_lift = round((treatment_group_conversion_rate - control_group_conversion_rate) / control_group_conversion_rate , 3)\n",
    "print(f\"Posterier Lift = {posterier_lift}%\")"
   ]
  },
  {
   "cell_type": "code",
   "execution_count": 413,
   "metadata": {},
   "outputs": [],
   "source": [
    "prior_alpha, prior_beta, _, _ = beta.fit(prior_means, floc=0, fscale=1)"
   ]
  },
  {
   "cell_type": "code",
   "execution_count": 482,
   "metadata": {},
   "outputs": [
    {
     "data": {
      "image/png": "[encoded data removed]",
      "text/plain": [
       "<Figure size 640x480 with 1 Axes>"
      ]
     },
     "metadata": {},
     "output_type": "display_data"
    }
   ],
   "source": [
    "import numpy as np\n",
    "import seaborn as sns\n",
    "import matplotlib.pyplot as plt\n",
    "from scipy.stats import beta\n",
    "\n",
    "# Parameters for the Beta distribution (alpha and beta)\n",
    "alpha_param = prior_alpha\n",
    "beta_param = prior_beta\n",
    "\n",
    "# Generate random data following a Beta distribution\n",
    "data_beta = beta.rvs(alpha_param, beta_param, size=1000)\n",
    "\n",
    "# Plot the Beta distribution using seaborn\n",
    "sns.histplot(data_beta, kde=True)\n",
    "plt.xlabel('Values')\n",
    "plt.ylabel('Density')\n",
    "plt.title('Beta Distribution')\n",
    "\n",
    "plt.show()\n"
   ]
  },
  {
   "attachments": {},
   "cell_type": "markdown",
   "metadata": {},
   "source": [
    "## Update Prior information"
   ]
  },
  {
   "cell_type": "code",
   "execution_count": 414,
   "metadata": {},
   "outputs": [],
   "source": [
    "posterior_control = beta(prior_alpha + len(control_posterier_df[control_posterier_df['converted'] == 1]), prior_beta + (len(control_posterier_df) - len(control_posterier_df[control_posterier_df['converted'] == 1])))\n",
    "posterior_treatment = beta(prior_alpha + len(treatment_posterier_df[treatment_posterier_df['converted'] == 1]), prior_beta + (len(treatment_posterier_df) - len(treatment_posterier_df[treatment_posterier_df['converted'] == 1])))"
   ]
  },
  {
   "attachments": {},
   "cell_type": "markdown",
   "metadata": {},
   "source": [
    "## Random sampling from posterior parameters"
   ]
  },
  {
   "cell_type": "code",
   "execution_count": 415,
   "metadata": {},
   "outputs": [
    {
     "name": "stdout",
     "output_type": "stream",
     "text": [
      "Probability that treatment > control: 31.3%\n"
     ]
    }
   ],
   "source": [
    "control_samples = posterior_control.rvs(1000)\n",
    "treatment_samples = posterior_treatment.rvs(1000)\n",
    "probability = np.mean(treatment_samples > control_samples)\n",
    "print(f\"Probability that treatment > control: {probability * 100}%\")"
   ]
  },
  {
   "cell_type": "code",
   "execution_count": 416,
   "metadata": {},
   "outputs": [
    {
     "name": "stdout",
     "output_type": "stream",
     "text": [
      "Control Posterior: Mean: 0.11924780218951651, Variance: 2.2487396473519885e-06\n",
      "Treatment Posterior: Mean: 0.11819474955618357, Variance: 2.2310687161720355e-06\n"
     ]
    }
   ],
   "source": [
    "(control_mu), (control_var) = posterior_control.stats()\n",
    "(treatment_mu), (treatment_var) = posterior_treatment.stats()\n",
    "print(f\"Control Posterior: Mean: {control_mu}, Variance: {control_var}\") \n",
    "print(f\"Treatment Posterior: Mean: {treatment_mu}, Variance: {treatment_var}\") "
   ]
  },
  {
   "cell_type": "code",
   "execution_count": 417,
   "metadata": {},
   "outputs": [
    {
     "name": "stdout",
     "output_type": "stream",
     "text": [
      "Probability that we are seeing a 2% lift: 4.9%\n"
     ]
    }
   ],
   "source": [
    "lift_percentage = (treatment_samples - control_samples) / control_samples\n",
    "print(f\"Probability that we are seeing a 2% lift: {np.mean((100 * lift_percentage) > 2) * 100}%\")"
   ]
  }
 ],
 "metadata": {
  "kernelspec": {
   "display_name": "Python 3",
   "language": "python",
   "name": "python3"
  },
  "language_info": {
   "codemirror_mode": {
    "name": "ipython",
    "version": 3
   },
   "file_extension": ".py",
   "mimetype": "text/x-python",
   "name": "python",
   "nbconvert_exporter": "python",
   "pygments_lexer": "ipython3",
   "version": "3.11.4"
  },
  "orig_nbformat": 4
 },
 "nbformat": 4,
 "nbformat_minor": 2
}
